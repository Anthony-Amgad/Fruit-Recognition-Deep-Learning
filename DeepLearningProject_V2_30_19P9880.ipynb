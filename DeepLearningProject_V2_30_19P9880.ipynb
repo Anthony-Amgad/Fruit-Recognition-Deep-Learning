{
  "cells": [
    {
      "cell_type": "code",
      "execution_count": null,
      "metadata": {
        "colab": {
          "base_uri": "https://localhost:8080/",
          "height": 183
        },
        "id": "2Ruu9k8CfJfO",
        "outputId": "bc0cd9ef-fb4f-411e-8916-85fbe57a83b0"
      },
      "outputs": [],
      "source": [
        "\n",
        "from google.colab import files\n",
        "files.upload() ## Upload your kaggle.json here\n",
        "!ls -lha kaggle.json\n",
        "!pip install -q kaggle\n",
        "!mkdir -p ~/.kaggle\n",
        "!cp kaggle.json ~/.kaggle/\n",
        "!chmod 600 /root/.kaggle/kaggle.json\n",
        "!mkdir FruitRecognition\n",
        "%cd FruitRecognition\n",
        "!pwd #Print Working Directory\n",
        "!kaggle datasets download -d utkarshsaxenadn/fruits-classification\n",
        "\n"
      ]
    },
    {
      "cell_type": "code",
      "execution_count": null,
      "metadata": {
        "colab": {
          "base_uri": "https://localhost:8080/"
        },
        "id": "whQsI6wuivg3",
        "outputId": "9e018199-972e-4e68-d70c-9ddce40ab428"
      },
      "outputs": [],
      "source": [
        "!unzip fruits-classification.zip"
      ]
    },
    {
      "cell_type": "code",
      "execution_count": null,
      "metadata": {
        "id": "UmzLxGG8i87-"
      },
      "outputs": [],
      "source": [
        "import keras, os\n",
        "from keras.models import Sequential\n",
        "from keras.layers import Dense, Conv2D, MaxPool2D , Flatten\n",
        "from keras.preprocessing.image import ImageDataGenerator\n",
        "import tensorflow as tf\n",
        "from keras import regularizers\n",
        "import numpy as np\n",
        "import seaborn as sns\n",
        "import pandas as pd\n",
        "import matplotlib.pyplot as plt\n",
        "import cv2\n",
        "from sklearn.model_selection import train_test_split\n",
        "from glob import glob\n",
        "from IPython.display import display, Markdown, Latex\n",
        "from sklearn.metrics import classification_report, confusion_matrix"
      ]
    },
    {
      "cell_type": "code",
      "execution_count": null,
      "metadata": {
        "colab": {
          "base_uri": "https://localhost:8080/"
        },
        "id": "HEng1JmJjHc_",
        "outputId": "e4cb35e6-a68c-49d0-8fd5-1ef2655b6405"
      },
      "outputs": [
        {
          "name": "stdout",
          "output_type": "stream",
          "text": [
            "['/content/FruitRecognition/Fruits Classification/train/Apple', '/content/FruitRecognition/Fruits Classification/train/Mango', '/content/FruitRecognition/Fruits Classification/train/Strawberry', '/content/FruitRecognition/Fruits Classification/train/Grape', '/content/FruitRecognition/Fruits Classification/train/Banana']\n",
            "['/content/FruitRecognition/Fruits Classification/valid/Apple', '/content/FruitRecognition/Fruits Classification/valid/Mango', '/content/FruitRecognition/Fruits Classification/valid/Strawberry', '/content/FruitRecognition/Fruits Classification/valid/Grape', '/content/FruitRecognition/Fruits Classification/valid/Banana']\n",
            "['/content/FruitRecognition/Fruits Classification/test/Apple', '/content/FruitRecognition/Fruits Classification/test/Mango', '/content/FruitRecognition/Fruits Classification/test/Strawberry', '/content/FruitRecognition/Fruits Classification/test/Grape', '/content/FruitRecognition/Fruits Classification/test/Banana']\n"
          ]
        }
      ],
      "source": [
        "trainpaths=[]\n",
        "for name in glob('/content/FruitRecognition/Fruits Classification/train/*', recursive=True):\n",
        "  if not name.endswith('.zip'):\n",
        "    trainpaths.append(name)\n",
        "valpaths=[]\n",
        "for name in glob('/content/FruitRecognition/Fruits Classification/valid/*', recursive=True):\n",
        "  if not name.endswith('.zip'):\n",
        "    valpaths.append(name)\n",
        "testpaths=[]\n",
        "for name in glob('/content/FruitRecognition/Fruits Classification/test/*', recursive=True):\n",
        "  if not name.endswith('.zip'):\n",
        "    testpaths.append(name)\n",
        "print(trainpaths)\n",
        "print(valpaths)\n",
        "print(testpaths)"
      ]
    },
    {
      "cell_type": "code",
      "execution_count": null,
      "metadata": {
        "colab": {
          "base_uri": "https://localhost:8080/"
        },
        "id": "VjPD94ilkUDO",
        "outputId": "481def40-00d0-4e97-9b0c-e17ec629803c"
      },
      "outputs": [
        {
          "name": "stdout",
          "output_type": "stream",
          "text": [
            "9700\n",
            "200\n",
            "100\n",
            "{'Mango', 'Strawberry', 'Grape', 'Apple', 'Banana'}\n"
          ]
        }
      ],
      "source": [
        "train_img_paths=[]\n",
        "train_labels=[]\n",
        "for i in trainpaths:\n",
        "  for name in glob(i+'/*'):\n",
        "    a=name.split('/')\n",
        "    train_img_paths.append(name)\n",
        "    train_labels.append(a[-2])\n",
        "\n",
        "val_img_paths=[]\n",
        "val_labels=[]\n",
        "for i in valpaths:\n",
        "  for name in glob(i+'/*'):\n",
        "    a=name.split('/')\n",
        "    val_img_paths.append(name)\n",
        "    val_labels.append(a[-2])\n",
        "\n",
        "test_img_paths=[]\n",
        "test_labels=[]\n",
        "for i in testpaths:\n",
        "  for name in glob(i+'/*'):\n",
        "    a=name.split('/')\n",
        "    test_img_paths.append(name)\n",
        "    test_labels.append(a[-2])\n",
        "\n",
        "print(len(train_img_paths))\n",
        "print(len(val_img_paths))\n",
        "print(len(test_img_paths))\n",
        "print(set(train_labels))"
      ]
    },
    {
      "cell_type": "code",
      "execution_count": null,
      "metadata": {
        "colab": {
          "base_uri": "https://localhost:8080/",
          "height": 604
        },
        "id": "uSUMEDuTlkx1",
        "outputId": "9ee42ac3-72f1-41a1-b7bf-daf497d3ba5d"
      },
      "outputs": [
        {
          "data": {
            "text/markdown": [
              "#*Count Plot of Train data in data set:*"
            ],
            "text/plain": [
              "<IPython.core.display.Markdown object>"
            ]
          },
          "metadata": {},
          "output_type": "display_data"
        },
        {
          "data": {
            "text/plain": [
              "<Axes: xlabel='1', ylabel='count'>"
            ]
          },
          "execution_count": 6,
          "metadata": {},
          "output_type": "execute_result"
        },
        {
          "data": {
            "image/png": "[encoded data removed]",
            "text/plain": [
              "<Figure size 1500x500 with 1 Axes>"
            ]
          },
          "metadata": {},
          "output_type": "display_data"
        }
      ],
      "source": [
        "trainImgPath = pd.Series(train_img_paths).astype(str)\n",
        "trainLabels=pd.Series(train_labels)\n",
        "trainData = pd.concat([trainImgPath,trainLabels],axis=1)\n",
        "display(Markdown(\"#*Count Plot of Train data in data set:*\"))\n",
        "plt.figure(figsize=(15,5))\n",
        "plt.xticks(rotation=90)\n",
        "sns.countplot(x=trainData[1], order=trainData[1].value_counts().index)"
      ]
    },
    {
      "cell_type": "code",
      "execution_count": null,
      "metadata": {
        "colab": {
          "base_uri": "https://localhost:8080/",
          "height": 604
        },
        "id": "UtoAXWzHmIPk",
        "outputId": "512cd717-f157-4e92-afd9-65b7c41ef3ef"
      },
      "outputs": [
        {
          "data": {
            "text/markdown": [
              "#*Count Plot of Validation data in data set:*"
            ],
            "text/plain": [
              "<IPython.core.display.Markdown object>"
            ]
          },
          "metadata": {},
          "output_type": "display_data"
        },
        {
          "data": {
            "text/plain": [
              "<Axes: xlabel='1', ylabel='count'>"
            ]
          },
          "execution_count": 7,
          "metadata": {},
          "output_type": "execute_result"
        },
        {
          "data": {
            "image/png": "[encoded data removed]",
            "text/plain": [
              "<Figure size 1500x500 with 1 Axes>"
            ]
          },
          "metadata": {},
          "output_type": "display_data"
        }
      ],
      "source": [
        "valImgPath = pd.Series(val_img_paths).astype(str)\n",
        "valLabels=pd.Series(val_labels)\n",
        "valData = pd.concat([valImgPath,valLabels],axis=1)\n",
        "display(Markdown(\"#*Count Plot of Validation data in data set:*\"))\n",
        "plt.figure(figsize=(15,5))\n",
        "plt.xticks(rotation=90)\n",
        "sns.countplot(x=valData[1], order=valData[1].value_counts().index)"
      ]
    },
    {
      "cell_type": "code",
      "execution_count": null,
      "metadata": {
        "colab": {
          "base_uri": "https://localhost:8080/",
          "height": 604
        },
        "id": "wnhmJqvPmct9",
        "outputId": "fb9edd4a-3229-4c01-ba7a-1af74e4d9ee8"
      },
      "outputs": [
        {
          "data": {
            "text/markdown": [
              "#*Count Plot of Test data in data set:*"
            ],
            "text/plain": [
              "<IPython.core.display.Markdown object>"
            ]
          },
          "metadata": {},
          "output_type": "display_data"
        },
        {
          "data": {
            "text/plain": [
              "<Axes: xlabel='1', ylabel='count'>"
            ]
          },
          "execution_count": 8,
          "metadata": {},
          "output_type": "execute_result"
        },
        {
          "data": {
            "image/png": "[encoded data removed]",
            "text/plain": [
              "<Figure size 1500x500 with 1 Axes>"
            ]
          },
          "metadata": {},
          "output_type": "display_data"
        }
      ],
      "source": [
        "testImgPath = pd.Series(test_img_paths).astype(str)\n",
        "testLabels=pd.Series(test_labels)\n",
        "testData = pd.concat([testImgPath,testLabels],axis=1)\n",
        "display(Markdown(\"#*Count Plot of Test data in data set:*\"))\n",
        "plt.figure(figsize=(15,5))\n",
        "plt.xticks(rotation=90)\n",
        "sns.countplot(x=testData[1], order=testData[1].value_counts().index)"
      ]
    },
    {
      "cell_type": "code",
      "execution_count": null,
      "metadata": {
        "colab": {
          "base_uri": "https://localhost:8080/"
        },
        "id": "qa_lc-XhmsuE",
        "outputId": "2f18d84c-dcc9-4118-82e9-a550334fb20c"
      },
      "outputs": [
        {
          "name": "stdout",
          "output_type": "stream",
          "text": [
            "Found 9700 validated image filenames belonging to 5 classes.\n",
            "Found 9700 validated image filenames belonging to 5 classes.\n",
            "Found 200 validated image filenames belonging to 5 classes.\n",
            "Found 100 validated image filenames belonging to 5 classes.\n"
          ]
        }
      ],
      "source": [
        "train_gen = ImageDataGenerator()\n",
        "aug_gen = ImageDataGenerator(\n",
        "          rotation_range=10, # rotation\n",
        "          width_shift_range=0.2, # horizontal shift\n",
        "          height_shift_range=0.2, # vertical shift\n",
        "          zoom_range=0.2, # zoom\n",
        "          horizontal_flip=True, # horizontal flip\n",
        "          brightness_range=[0.2,1.2]) # brightness\n",
        "val_gen = ImageDataGenerator()\n",
        "test_gen = ImageDataGenerator()\n",
        "\n",
        "train_data = train_gen.flow_from_dataframe(\n",
        "    dataframe = trainData,\n",
        "    x_col = 0,\n",
        "    y_col = 1,\n",
        "    target_size = (224,224),\n",
        "    color_mode = 'rgb',\n",
        "    class_mode = 'categorical',\n",
        "    shuffle = True\n",
        ")\n",
        "\n",
        "aug_data = aug_gen.flow_from_dataframe(\n",
        "    dataframe = trainData,\n",
        "    x_col = 0,\n",
        "    y_col = 1,\n",
        "    target_size = (224,224),\n",
        "    color_mode = 'rgb',\n",
        "    class_mode = 'categorical',\n",
        "    shuffle = True\n",
        ")\n",
        "\n",
        "val_data = val_gen.flow_from_dataframe(\n",
        "    dataframe = valData,\n",
        "    x_col = 0,\n",
        "    y_col = 1,\n",
        "    target_size = (224,224),\n",
        "    color_mode = 'rgb',\n",
        "    class_mode = 'categorical',\n",
        "    shuffle = True\n",
        ")\n",
        "\n",
        "test_data = test_gen.flow_from_dataframe(\n",
        "    dataframe = testData,\n",
        "    x_col = 0,\n",
        "    y_col = 1,\n",
        "    target_size = (224,224),\n",
        "    color_mode = 'rgb',\n",
        "    class_mode = 'categorical',\n",
        "    shuffle = False\n",
        ")\n"
      ]
    },
    {
      "cell_type": "code",
      "execution_count": null,
      "metadata": {
        "colab": {
          "base_uri": "https://localhost:8080/"
        },
        "id": "qbigbUbpoMoM",
        "outputId": "1b7c307d-62cf-445b-c68b-5358287231e6"
      },
      "outputs": [
        {
          "name": "stdout",
          "output_type": "stream",
          "text": [
            "Model: \"sequential\"\n",
            "_________________________________________________________________\n",
            " Layer (type)                Output Shape              Param #   \n",
            "=================================================================\n",
            " conv2d (Conv2D)             (None, 224, 224, 64)      1792      \n",
            "                                                                 \n",
            " conv2d_1 (Conv2D)           (None, 224, 224, 64)      36928     \n",
            "                                                                 \n",
            " max_pooling2d (MaxPooling2D  (None, 112, 112, 64)     0         \n",
            " )                                                               \n",
            "                                                                 \n",
            " conv2d_2 (Conv2D)           (None, 112, 112, 128)     73856     \n",
            "                                                                 \n",
            " conv2d_3 (Conv2D)           (None, 112, 112, 128)     147584    \n",
            "                                                                 \n",
            " max_pooling2d_1 (MaxPooling  (None, 56, 56, 128)      0         \n",
            " 2D)                                                             \n",
            "                                                                 \n",
            " conv2d_4 (Conv2D)           (None, 56, 56, 256)       295168    \n",
            "                                                                 \n",
            " conv2d_5 (Conv2D)           (None, 56, 56, 256)       590080    \n",
            "                                                                 \n",
            " conv2d_6 (Conv2D)           (None, 56, 56, 256)       590080    \n",
            "                                                                 \n",
            " conv2d_7 (Conv2D)           (None, 56, 56, 256)       590080    \n",
            "                                                                 \n",
            " max_pooling2d_2 (MaxPooling  (None, 28, 28, 256)      0         \n",
            " 2D)                                                             \n",
            "                                                                 \n",
            " conv2d_8 (Conv2D)           (None, 28, 28, 512)       1180160   \n",
            "                                                                 \n",
            " conv2d_9 (Conv2D)           (None, 28, 28, 512)       2359808   \n",
            "                                                                 \n",
            " conv2d_10 (Conv2D)          (None, 28, 28, 512)       2359808   \n",
            "                                                                 \n",
            " conv2d_11 (Conv2D)          (None, 28, 28, 512)       2359808   \n",
            "                                                                 \n",
            " max_pooling2d_3 (MaxPooling  (None, 14, 14, 512)      0         \n",
            " 2D)                                                             \n",
            "                                                                 \n",
            " conv2d_12 (Conv2D)          (None, 14, 14, 512)       2359808   \n",
            "                                                                 \n",
            " conv2d_13 (Conv2D)          (None, 14, 14, 512)       2359808   \n",
            "                                                                 \n",
            " conv2d_14 (Conv2D)          (None, 14, 14, 512)       2359808   \n",
            "                                                                 \n",
            " conv2d_15 (Conv2D)          (None, 14, 14, 512)       2359808   \n",
            "                                                                 \n",
            " max_pooling2d_4 (MaxPooling  (None, 7, 7, 512)        0         \n",
            " 2D)                                                             \n",
            "                                                                 \n",
            " flatten (Flatten)           (None, 25088)             0         \n",
            "                                                                 \n",
            " dense (Dense)               (None, 4096)              102764544 \n",
            "                                                                 \n",
            " dense_1 (Dense)             (None, 4096)              16781312  \n",
            "                                                                 \n",
            " dense_2 (Dense)             (None, 1000)              4097000   \n",
            "                                                                 \n",
            " dense_3 (Dense)             (None, 5)                 5005      \n",
            "                                                                 \n",
            "=================================================================\n",
            "Total params: 143,672,245\n",
            "Trainable params: 143,672,245\n",
            "Non-trainable params: 0\n",
            "_________________________________________________________________\n"
          ]
        }
      ],
      "source": [
        "model = Sequential()\n",
        "model.add(Conv2D(input_shape=(224,224,3),filters=64,kernel_size=(3,3),padding=\"same\", activation=\"relu\"))\n",
        "model.add(Conv2D(filters=64,kernel_size=(3,3),padding=\"same\", activation=\"relu\"))\n",
        "model.add(MaxPool2D(pool_size=(2,2),strides=(2,2)))\n",
        "model.add(Conv2D(filters=128, kernel_size=(3,3), padding=\"same\", activation=\"relu\"))\n",
        "model.add(Conv2D(filters=128, kernel_size=(3,3), padding=\"same\", activation=\"relu\"))\n",
        "model.add(MaxPool2D(pool_size=(2,2),strides=(2,2)))\n",
        "model.add(Conv2D(filters=256, kernel_size=(3,3), padding=\"same\", activation=\"relu\"))\n",
        "model.add(Conv2D(filters=256, kernel_size=(3,3), padding=\"same\", activation=\"relu\"))\n",
        "model.add(Conv2D(filters=256, kernel_size=(3,3), padding=\"same\", activation=\"relu\"))\n",
        "model.add(Conv2D(filters=256, kernel_size=(3,3), padding=\"same\", activation=\"relu\"))\n",
        "model.add(MaxPool2D(pool_size=(2,2),strides=(2,2)))\n",
        "model.add(Conv2D(filters=512, kernel_size=(3,3), padding=\"same\", activation=\"relu\"))\n",
        "model.add(Conv2D(filters=512, kernel_size=(3,3), padding=\"same\", activation=\"relu\"))\n",
        "model.add(Conv2D(filters=512, kernel_size=(3,3), padding=\"same\", activation=\"relu\"))\n",
        "model.add(Conv2D(filters=512, kernel_size=(3,3), padding=\"same\", activation=\"relu\"))\n",
        "model.add(MaxPool2D(pool_size=(2,2),strides=(2,2)))\n",
        "model.add(Conv2D(filters=512, kernel_size=(3,3), padding=\"same\", activation=\"relu\"))\n",
        "model.add(Conv2D(filters=512, kernel_size=(3,3), padding=\"same\", activation=\"relu\"))\n",
        "model.add(Conv2D(filters=512, kernel_size=(3,3), padding=\"same\", activation=\"relu\"))\n",
        "model.add(Conv2D(filters=512, kernel_size=(3,3), padding=\"same\", activation=\"relu\"))\n",
        "model.add(MaxPool2D(pool_size=(2,2),strides=(2,2)))\n",
        "model.add(Flatten())\n",
        "model.add(Dense(units=4096,activation=\"relu\",activity_regularizer=regularizers.L2(0.01)))\n",
        "model.add(Dense(units=4096,activation=\"relu\"))\n",
        "model.add(Dense(units=1000, activation=\"relu\"))\n",
        "model.add(Dense(units=5, activation=\"softmax\"))\n",
        "model.summary()"
      ]
    },
    {
      "cell_type": "code",
      "execution_count": null,
      "metadata": {
        "id": "YXilVzQAoR-D"
      },
      "outputs": [],
      "source": [
        "model.compile(\n",
        "    optimizer = tf.optimizers.SGD(learning_rate=0.01),\n",
        "    loss='categorical_crossentropy',\n",
        "    metrics=['accuracy']\n",
        ")"
      ]
    },
    {
      "cell_type": "code",
      "execution_count": null,
      "metadata": {
        "id": "QbgYQsuYCItb"
      },
      "outputs": [],
      "source": [
        "def combine_gen(*gens):\n",
        "    while True:\n",
        "        for g in gens:\n",
        "            yield next(g)"
      ]
    },
    {
      "cell_type": "code",
      "execution_count": null,
      "metadata": {
        "colab": {
          "base_uri": "https://localhost:8080/"
        },
        "id": "IX0CiLMhoX-z",
        "outputId": "3fa51b11-24c2-4a13-8318-9ec64202aece"
      },
      "outputs": [
        {
          "name": "stdout",
          "output_type": "stream",
          "text": [
            "Epoch 1/10\n",
            "608/608 [==============================] - 386s 593ms/step - loss: 1.5052 - accuracy: 0.3615 - val_loss: 1.4278 - val_accuracy: 0.4250\n",
            "Epoch 2/10\n",
            "608/608 [==============================] - 352s 578ms/step - loss: 1.2602 - accuracy: 0.4794 - val_loss: 1.3849 - val_accuracy: 0.3850\n",
            "Epoch 3/10\n",
            "608/608 [==============================] - 353s 580ms/step - loss: 1.1749 - accuracy: 0.5110 - val_loss: 1.2094 - val_accuracy: 0.4650\n",
            "Epoch 4/10\n",
            "608/608 [==============================] - 353s 580ms/step - loss: 1.1209 - accuracy: 0.5368 - val_loss: 1.2668 - val_accuracy: 0.4550\n",
            "Epoch 5/10\n",
            "608/608 [==============================] - 353s 581ms/step - loss: 1.0785 - accuracy: 0.5580 - val_loss: 1.8774 - val_accuracy: 0.2700\n",
            "Epoch 6/10\n",
            "608/608 [==============================] - 353s 581ms/step - loss: 1.0645 - accuracy: 0.5660 - val_loss: 1.5616 - val_accuracy: 0.4000\n",
            "Epoch 7/10\n",
            "608/608 [==============================] - 353s 580ms/step - loss: 1.0114 - accuracy: 0.6013 - val_loss: 1.6658 - val_accuracy: 0.2400\n",
            "Epoch 8/10\n",
            "608/608 [==============================] - 352s 579ms/step - loss: 0.9888 - accuracy: 0.6128 - val_loss: 1.2281 - val_accuracy: 0.4550\n",
            "Epoch 9/10\n",
            "608/608 [==============================] - 355s 584ms/step - loss: 0.9338 - accuracy: 0.6404 - val_loss: 1.3890 - val_accuracy: 0.3750\n",
            "Epoch 10/10\n",
            "608/608 [==============================] - 354s 582ms/step - loss: 0.8989 - accuracy: 0.6564 - val_loss: 1.4851 - val_accuracy: 0.5700\n"
          ]
        }
      ],
      "source": [
        "history1 = model.fit(combine_gen(train_data, aug_data), steps_per_epoch=len(train_data)+len(aug_data), epochs=10, validation_data=val_data)"
      ]
    },
    {
      "cell_type": "code",
      "execution_count": null,
      "metadata": {
        "colab": {
          "base_uri": "https://localhost:8080/"
        },
        "id": "RPjZ18qNOeBf",
        "outputId": "f2262053-8430-4c0f-933a-c2933722b2ea"
      },
      "outputs": [
        {
          "name": "stdout",
          "output_type": "stream",
          "text": [
            "Epoch 1/10\n",
            "608/608 [==============================] - 353s 581ms/step - loss: 0.8676 - accuracy: 0.6722 - val_loss: 0.9239 - val_accuracy: 0.6500\n",
            "Epoch 2/10\n",
            "608/608 [==============================] - 353s 581ms/step - loss: 0.8312 - accuracy: 0.6895 - val_loss: 0.8411 - val_accuracy: 0.6600\n",
            "Epoch 3/10\n",
            "608/608 [==============================] - 353s 580ms/step - loss: 0.7978 - accuracy: 0.7026 - val_loss: 1.1427 - val_accuracy: 0.5150\n",
            "Epoch 4/10\n",
            "608/608 [==============================] - 353s 581ms/step - loss: 0.7795 - accuracy: 0.7127 - val_loss: 1.2086 - val_accuracy: 0.4800\n",
            "Epoch 5/10\n",
            "608/608 [==============================] - 353s 581ms/step - loss: 0.7374 - accuracy: 0.7265 - val_loss: 2.0010 - val_accuracy: 0.5050\n",
            "Epoch 6/10\n",
            "608/608 [==============================] - 354s 582ms/step - loss: 0.7361 - accuracy: 0.7285 - val_loss: 1.3858 - val_accuracy: 0.4900\n",
            "Epoch 7/10\n",
            "608/608 [==============================] - 351s 577ms/step - loss: 0.6976 - accuracy: 0.7472 - val_loss: 1.4463 - val_accuracy: 0.4550\n",
            "Epoch 8/10\n",
            "608/608 [==============================] - 352s 579ms/step - loss: 0.6622 - accuracy: 0.7608 - val_loss: 0.9214 - val_accuracy: 0.6500\n",
            "Epoch 9/10\n",
            "608/608 [==============================] - 351s 578ms/step - loss: 0.6275 - accuracy: 0.7742 - val_loss: 1.2307 - val_accuracy: 0.5950\n",
            "Epoch 10/10\n",
            "608/608 [==============================] - 354s 582ms/step - loss: 0.6012 - accuracy: 0.7834 - val_loss: 0.7774 - val_accuracy: 0.7350\n"
          ]
        }
      ],
      "source": [
        "history2 = model.fit(combine_gen(train_data, aug_data), steps_per_epoch=len(train_data)+len(aug_data), epochs=10, validation_data=val_data)"
      ]
    },
    {
      "cell_type": "code",
      "execution_count": null,
      "metadata": {
        "colab": {
          "base_uri": "https://localhost:8080/"
        },
        "id": "Rp8aQH6f2SFa",
        "outputId": "d5f097c0-c632-46f6-c0db-6bcc043c0f09"
      },
      "outputs": [
        {
          "name": "stdout",
          "output_type": "stream",
          "text": [
            "Epoch 1/10\n",
            "608/608 [==============================] - 355s 584ms/step - loss: 0.5788 - accuracy: 0.7952 - val_loss: 0.9205 - val_accuracy: 0.6800\n",
            "Epoch 2/10\n",
            "608/608 [==============================] - 354s 583ms/step - loss: 0.5548 - accuracy: 0.8029 - val_loss: 1.6522 - val_accuracy: 0.4700\n",
            "Epoch 3/10\n",
            "608/608 [==============================] - 353s 581ms/step - loss: 0.5321 - accuracy: 0.8124 - val_loss: 1.3769 - val_accuracy: 0.4900\n",
            "Epoch 4/10\n",
            "608/608 [==============================] - 352s 580ms/step - loss: 0.5185 - accuracy: 0.8182 - val_loss: 0.8506 - val_accuracy: 0.7050\n",
            "Epoch 5/10\n",
            "608/608 [==============================] - 354s 582ms/step - loss: 0.4878 - accuracy: 0.8301 - val_loss: 2.2953 - val_accuracy: 0.4450\n",
            "Epoch 6/10\n",
            "608/608 [==============================] - 353s 580ms/step - loss: 0.4769 - accuracy: 0.8361 - val_loss: 0.7143 - val_accuracy: 0.7450\n",
            "Epoch 7/10\n",
            "608/608 [==============================] - 352s 579ms/step - loss: 0.4348 - accuracy: 0.8511 - val_loss: 2.0042 - val_accuracy: 0.4100\n",
            "Epoch 8/10\n",
            "608/608 [==============================] - 352s 579ms/step - loss: 0.4289 - accuracy: 0.8561 - val_loss: 2.4484 - val_accuracy: 0.4700\n",
            "Epoch 9/10\n",
            "608/608 [==============================] - 353s 581ms/step - loss: 0.4102 - accuracy: 0.8624 - val_loss: 1.8110 - val_accuracy: 0.6450\n",
            "Epoch 10/10\n",
            "608/608 [==============================] - 352s 579ms/step - loss: 0.3733 - accuracy: 0.8751 - val_loss: 1.5971 - val_accuracy: 0.6000\n"
          ]
        }
      ],
      "source": [
        "history3 = model.fit(combine_gen(train_data, aug_data), steps_per_epoch=len(train_data)+len(aug_data), epochs=10, validation_data=val_data)"
      ]
    },
    {
      "cell_type": "code",
      "execution_count": null,
      "metadata": {
        "colab": {
          "base_uri": "https://localhost:8080/"
        },
        "id": "xpmY7Mcb9BN_",
        "outputId": "0e36c738-2fda-4745-8b3e-b050891e011e"
      },
      "outputs": [
        {
          "name": "stdout",
          "output_type": "stream",
          "text": [
            "Epoch 1/10\n",
            "608/608 [==============================] - 358s 588ms/step - loss: 0.3547 - accuracy: 0.8818 - val_loss: 1.1730 - val_accuracy: 0.7000\n",
            "Epoch 2/10\n",
            "608/608 [==============================] - 357s 588ms/step - loss: 0.3472 - accuracy: 0.8832 - val_loss: 4.2095 - val_accuracy: 0.3500\n",
            "Epoch 3/10\n",
            "608/608 [==============================] - 366s 602ms/step - loss: 0.3566 - accuracy: 0.8822 - val_loss: 0.8388 - val_accuracy: 0.7250\n",
            "Epoch 4/10\n",
            "608/608 [==============================] - 360s 592ms/step - loss: 0.3168 - accuracy: 0.8978 - val_loss: 1.4306 - val_accuracy: 0.6500\n",
            "Epoch 5/10\n",
            "608/608 [==============================] - 358s 589ms/step - loss: 0.2982 - accuracy: 0.9051 - val_loss: 1.1743 - val_accuracy: 0.7000\n",
            "Epoch 6/10\n",
            "608/608 [==============================] - 358s 589ms/step - loss: 0.2888 - accuracy: 0.9059 - val_loss: 4.1755 - val_accuracy: 0.2900\n",
            "Epoch 7/10\n",
            "608/608 [==============================] - 358s 589ms/step - loss: 0.2903 - accuracy: 0.9097 - val_loss: 0.5022 - val_accuracy: 0.8300\n",
            "Epoch 8/10\n",
            "608/608 [==============================] - 357s 587ms/step - loss: 0.2571 - accuracy: 0.9182 - val_loss: 1.7245 - val_accuracy: 0.5800\n",
            "Epoch 9/10\n",
            "608/608 [==============================] - 357s 588ms/step - loss: 0.2607 - accuracy: 0.9193 - val_loss: 1.0644 - val_accuracy: 0.7200\n",
            "Epoch 10/10\n",
            "608/608 [==============================] - 357s 587ms/step - loss: 0.2442 - accuracy: 0.9228 - val_loss: 0.5313 - val_accuracy: 0.8500\n"
          ]
        }
      ],
      "source": [
        "history4 = model.fit(combine_gen(train_data, aug_data), steps_per_epoch=len(train_data)+len(aug_data), epochs=10, validation_data=val_data)"
      ]
    },
    {
      "cell_type": "code",
      "execution_count": null,
      "metadata": {
        "colab": {
          "base_uri": "https://localhost:8080/"
        },
        "id": "PMPrJBGXYQ79",
        "outputId": "980e297f-7eb2-4e93-9da4-b35476db0c84"
      },
      "outputs": [
        {
          "name": "stdout",
          "output_type": "stream",
          "text": [
            "Epoch 1/10\n",
            "608/608 [==============================] - 362s 595ms/step - loss: 0.2295 - accuracy: 0.9279 - val_loss: 0.5535 - val_accuracy: 0.8150\n",
            "Epoch 2/10\n",
            "608/608 [==============================] - 359s 591ms/step - loss: 0.2208 - accuracy: 0.9302 - val_loss: 0.8270 - val_accuracy: 0.7550\n",
            "Epoch 3/10\n",
            "608/608 [==============================] - 359s 590ms/step - loss: 0.2187 - accuracy: 0.9311 - val_loss: 0.5105 - val_accuracy: 0.8350\n",
            "Epoch 4/10\n",
            "608/608 [==============================] - 357s 588ms/step - loss: 0.2173 - accuracy: 0.9321 - val_loss: 0.5856 - val_accuracy: 0.8100\n",
            "Epoch 5/10\n",
            "608/608 [==============================] - 368s 605ms/step - loss: 0.2078 - accuracy: 0.9356 - val_loss: 3.7668 - val_accuracy: 0.5200\n",
            "Epoch 6/10\n",
            "608/608 [==============================] - 360s 592ms/step - loss: 0.2468 - accuracy: 0.9237 - val_loss: 1.4083 - val_accuracy: 0.6550\n",
            "Epoch 7/10\n",
            "608/608 [==============================] - 358s 588ms/step - loss: 0.1979 - accuracy: 0.9371 - val_loss: 2.1009 - val_accuracy: 0.6400\n",
            "Epoch 8/10\n",
            "608/608 [==============================] - 356s 586ms/step - loss: 0.1924 - accuracy: 0.9398 - val_loss: 0.4906 - val_accuracy: 0.8450\n",
            "Epoch 9/10\n",
            "608/608 [==============================] - 358s 589ms/step - loss: 0.1780 - accuracy: 0.9453 - val_loss: 0.7896 - val_accuracy: 0.7950\n",
            "Epoch 10/10\n",
            "608/608 [==============================] - 357s 587ms/step - loss: 0.1700 - accuracy: 0.9472 - val_loss: 1.5105 - val_accuracy: 0.6250\n"
          ]
        }
      ],
      "source": [
        "history5 = model.fit(combine_gen(train_data, aug_data), steps_per_epoch=len(train_data)+len(aug_data), epochs=10, validation_data=val_data)"
      ]
    },
    {
      "cell_type": "code",
      "execution_count": null,
      "metadata": {
        "colab": {
          "base_uri": "https://localhost:8080/"
        },
        "id": "5gTCWEavXOC_",
        "outputId": "45a3f3b1-0497-4df8-a05b-1ea42fbd2ac4"
      },
      "outputs": [
        {
          "name": "stdout",
          "output_type": "stream",
          "text": [
            "Saved model to disk\n"
          ]
        }
      ],
      "source": [
        "model_json = model.to_json()\n",
        "with open(\"/content/modelv2_32.json\", \"w\") as json_file:\n",
        "    json_file.write(model_json)\n",
        "model.save_weights(\"/content/modelv2_32.h5\")\n",
        "print(\"Saved model to disk\")"
      ]
    },
    {
      "cell_type": "code",
      "execution_count": null,
      "metadata": {
        "colab": {
          "base_uri": "https://localhost:8080/"
        },
        "id": "hZ8W9DpWXqUf",
        "outputId": "cc8832e4-ac04-47f4-e3ad-d6eb42b0fa3f"
      },
      "outputs": [
        {
          "data": {
            "text/plain": [
              "{'Apple': 0, 'Banana': 1, 'Grape': 2, 'Mango': 3, 'Strawberry': 4}"
            ]
          },
          "execution_count": 36,
          "metadata": {},
          "output_type": "execute_result"
        }
      ],
      "source": [
        "train_data.class_indices"
      ]
    }
  ],
  "metadata": {
    "accelerator": "GPU",
    "colab": {
      "gpuType": "T4",
      "provenance": []
    },
    "gpuClass": "standard",
    "kernelspec": {
      "display_name": "Python 3",
      "name": "python3"
    },
    "language_info": {
      "name": "python"
    }
  },
  "nbformat": 4,
  "nbformat_minor": 0
}
